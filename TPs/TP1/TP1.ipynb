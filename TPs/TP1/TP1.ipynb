{
 "cells": [
  {
   "cell_type": "code",
   "execution_count": 1,
   "id": "29765601",
   "metadata": {},
   "outputs": [
    {
     "name": "stdout",
     "output_type": "stream",
     "text": [
      "Hello World !\n"
     ]
    }
   ],
   "source": [
    "# Exo 1.1\n",
    "\n",
    "print(\"Hello World !\")"
   ]
  },
  {
   "cell_type": "code",
   "execution_count": 4,
   "id": "cdbdd0a0",
   "metadata": {},
   "outputs": [
    {
     "name": "stdout",
     "output_type": "stream",
     "text": [
      "['clear_data_home', 'dump_svmlight_file', 'fetch_20newsgroups', 'fetch_20newsgroups_vectorized', 'fetch_lfw_pairs', 'fetch_lfw_people', 'fetch_olivetti_faces', 'fetch_species_distributions', 'fetch_california_housing', 'fetch_covtype', 'fetch_rcv1', 'fetch_kddcup99', 'fetch_openml', 'get_data_home', 'load_boston', 'load_diabetes', 'load_digits', 'load_files', 'load_iris', 'load_breast_cancer', 'load_linnerud', 'load_sample_image', 'load_sample_images', 'load_svmlight_file', 'load_svmlight_files', 'load_wine', 'make_biclusters', 'make_blobs', 'make_circles', 'make_classification', 'make_checkerboard', 'make_friedman1', 'make_friedman2', 'make_friedman3', 'make_gaussian_quantiles', 'make_hastie_10_2', 'make_low_rank_matrix', 'make_moons', 'make_multilabel_classification', 'make_regression', 'make_s_curve', 'make_sparse_coded_signal', 'make_sparse_spd_matrix', 'make_sparse_uncorrelated', 'make_spd_matrix', 'make_swiss_roll']\n"
     ]
    }
   ],
   "source": [
    "from sklearn import datasets\n",
    "print(datasets.__all__)"
   ]
  },
  {
   "cell_type": "code",
   "execution_count": 5,
   "id": "e1415035",
   "metadata": {},
   "outputs": [
    {
     "name": "stdout",
     "output_type": "stream",
     "text": [
      "[('ENIAC coding system', 1943) ('ENIAC Short Code', 1946)\n",
      " ('Von Neumann and Goldstine graphing system', 1946)\n",
      " ('ARC Assembly', 1947) ('Plankalkül', 1948) ('CPC Coding scheme', 1948)\n",
      " ('Curry notation system', 1948) ('Short Code', 1949)\n",
      " ('assembly language', 1949) ('Short Code', 1950) ('G-code', 1950)\n",
      " ('Birkbeck Assembler', 1950) ('Superplan', 1951) ('ALGAE', 1951)\n",
      " ('Intermediate Programming Language', 1951)\n",
      " ('Regional Assembly Language', 1951)\n",
      " ('Boehm unnamed coding system', 1951) ('Klammerausdrücke', 1951)\n",
      " ('OMNIBAC Symbolic Assembler', 1951) ('Stanislaus', 1951)\n",
      " ('Whirlwind assembler', 1951) ('Rochester assembler', 1951)\n",
      " ('Sort Merge Generator', 1951) ('autocode', 1952) ('A-0 System', 1952)\n",
      " ('Editing Generator', 1952) ('COMPOOL', 1952) ('Speedcoding', 1953)\n",
      " ('READ/PRINT', 1953) ('Fortran', 1954) ('ARITH-MATIC', 1954)\n",
      " ('autocode', 1954) ('Laning and Zierler system', 1954)\n",
      " ('MATH-MATIC', 1954) ('MATRIX MATH', 1954) ('FLOW-MATIC', 1955)\n",
      " ('PACT', 1955) ('BACAIC', 1955) ('Freiburger Code', 1955)\n",
      " ('Sequentielle Formelübersetzung', 1955) ('Internal Translator', 1955)\n",
      " ('PRINT', 1955) ('Information Processing Language', 1956)\n",
      " ('FORTRAN for the IBM 704', 1956) ('Fortran', 1957) ('COMTRAN', 1957)\n",
      " ('GEORGE', 1957) ('UNICODE', 1957) ('ALGOL 58', 1958) ('Lisp', 1958)\n",
      " ('ALGOL', 1958) ('FORTRAN III', 1958) ('FORTRAN II', 1958)\n",
      " ('JOVIAL', 1959) ('TRAC', 1959) ('COBOL', 1959) ('MAD', 1959)\n",
      " ('Lisp', 1959) ('FACT', 1959) ('COBOL', 1960) ('ALCOR', 1960)\n",
      " ('ALGOL 60', 1960) ('FORTRAN IV', 1961) ('TECO', 1962) ('SNOBOL', 1962)\n",
      " ('APL', 1962) ('Simula', 1962) ('CORC', 1962) ('CPL', 1963)\n",
      " ('JOSS', 1963) ('P′′', 1964) ('Report Program Generator', 1964)\n",
      " ('TRAC', 1964) ('BASIC', 1964) ('COWSEL', 1964) ('MARK IV', 1964)\n",
      " ('MIMIC', 1964) ('PL/I', 1964) ('Speakeasy', 1964) ('IBM RPG II', 1965)\n",
      " ('Atlas Autocode', 1965) ('TELCOMP', 1965) ('Euler', 1966)\n",
      " ('ISWIM', 1966) ('ALGOL W', 1966)\n",
      " ('Massachusetts General Hospital Utility Multi-Programming System', 1966)\n",
      " ('JOSS', 1966) ('Coral 66', 1966) ('BCPL', 1966) ('APL', 1966)\n",
      " ('FORTRAN 66', 1966)\n",
      " ('Massachusetts General Hospital Utility Multi-Programming System', 1967)\n",
      " ('Hop', 1967) ('XPL', 1967) ('Interlisp', 1967) ('BCPL', 1967)\n",
      " ('Simula', 1967) ('Space Programming Language', 1967) ('PILOT', 1968)\n",
      " ('ALGOL 68', 1968)]\n"
     ]
    }
   ],
   "source": [
    "# Exo 1.2\n",
    "\n",
    "import numpy as np \n",
    "dataset = np.loadtxt(\"../../data/pl.csv\", dtype={'names': ('name', 'year'), \n",
    "       'formats': ('U100', 'i4')}, \n",
    "        skiprows=1, delimiter=\",\", encoding=\"UTF-8\") \n",
    "print(dataset)"
   ]
  },
  {
   "cell_type": "code",
   "execution_count": 6,
   "id": "7920c1ed",
   "metadata": {},
   "outputs": [
    {
     "name": "stdout",
     "output_type": "stream",
     "text": [
      "[('ENIAC coding system', 1943) ('ENIAC Short Code', 1946)\n",
      " ('Von Neumann and Goldstine graphing system', 1946)\n",
      " ('ARC Assembly', 1947) ('Plankalkül', 1948) ('CPC Coding scheme', 1948)\n",
      " ('Curry notation system', 1948) ('Short Code', 1949)\n",
      " ('assembly language', 1949) ('Short Code', 1950)\n",
      " ('Birkbeck Assembler', 1950) ('G-code', 1950) ('Superplan', 1951)\n",
      " ('ALGAE', 1951) ('Intermediate Programming Language', 1951)\n",
      " ('Regional Assembly Language', 1951)\n",
      " ('Boehm unnamed coding system', 1951) ('Klammerausdrücke', 1951)\n",
      " ('OMNIBAC Symbolic Assembler', 1951) ('Stanislaus', 1951)\n",
      " ('Whirlwind assembler', 1951) ('Rochester assembler', 1951)\n",
      " ('Sort Merge Generator', 1951) ('Editing Generator', 1952)\n",
      " ('COMPOOL', 1952) ('autocode', 1952) ('A-0 System', 1952)\n",
      " ('READ/PRINT', 1953) ('Speedcoding', 1953) ('Fortran', 1954)\n",
      " ('MATRIX MATH', 1954) ('autocode', 1954) ('ARITH-MATIC', 1954)\n",
      " ('Laning and Zierler system', 1954) ('MATH-MATIC', 1954)\n",
      " ('FLOW-MATIC', 1955) ('BACAIC', 1955) ('Freiburger Code', 1955)\n",
      " ('Sequentielle Formelübersetzung', 1955) ('Internal Translator', 1955)\n",
      " ('PRINT', 1955) ('PACT', 1955) ('Information Processing Language', 1956)\n",
      " ('FORTRAN for the IBM 704', 1956) ('Fortran', 1957) ('UNICODE', 1957)\n",
      " ('COMTRAN', 1957) ('GEORGE', 1957) ('ALGOL 58', 1958) ('Lisp', 1958)\n",
      " ('FORTRAN III', 1958) ('FORTRAN II', 1958) ('ALGOL', 1958)\n",
      " ('JOVIAL', 1959) ('TRAC', 1959) ('COBOL', 1959) ('Lisp', 1959)\n",
      " ('MAD', 1959) ('FACT', 1959) ('COBOL', 1960) ('COBOL', 1960)\n",
      " ('ALGOL 60', 1960) ('ALCOR', 1960) ('FORTRAN IV', 1961) ('SNOBOL', 1962)\n",
      " ('TECO', 1962) ('Simula', 1962) ('APL', 1962) ('CORC', 1962)\n",
      " ('CPL', 1963) ('JOSS', 1963) ('P′′', 1964)\n",
      " ('Report Program Generator', 1964) ('TRAC', 1964) ('BASIC', 1964)\n",
      " ('COWSEL', 1964) ('PL/I', 1964) ('MARK IV', 1964) ('MIMIC', 1964)\n",
      " ('Speakeasy', 1964) ('IBM RPG II', 1965) ('Atlas Autocode', 1965)\n",
      " ('TELCOMP', 1965) ('Euler', 1966) ('ISWIM', 1966) ('ALGOL W', 1966)\n",
      " ('JOSS', 1966)\n",
      " ('Massachusetts General Hospital Utility Multi-Programming System', 1966)\n",
      " ('BCPL', 1966) ('Coral 66', 1966) ('FORTRAN 66', 1966) ('APL', 1966)\n",
      " ('Hop', 1967)\n",
      " ('Massachusetts General Hospital Utility Multi-Programming System', 1967)\n",
      " ('Space Programming Language', 1967) ('BCPL', 1967) ('Interlisp', 1967)\n",
      " ('Simula', 1967) ('XPL', 1967) ('PILOT', 1968)]\n"
     ]
    }
   ],
   "source": [
    "import numpy as np \n",
    "dataset = np.loadtxt(\"../../data/pl.tsv\", dtype={'names': ('name', 'year'), \n",
    "       'formats': ('U100', 'i4')}, \n",
    "        skiprows=1, delimiter=\"\\t\", encoding=\"UTF-8\") \n",
    "print(dataset)"
   ]
  },
  {
   "cell_type": "code",
   "execution_count": 7,
   "id": "3b6bea98",
   "metadata": {},
   "outputs": [
    {
     "name": "stdout",
     "output_type": "stream",
     "text": [
      "                                languageLabel  year\n",
      "0                         ENIAC coding system  1943\n",
      "1                            ENIAC Short Code  1946\n",
      "2   Von Neumann and Goldstine graphing system  1946\n",
      "3                                ARC Assembly  1947\n",
      "4                                  Plankalkül  1948\n",
      "..                                        ...   ...\n",
      "95                                       BCPL  1967\n",
      "96                                  Interlisp  1967\n",
      "97                                     Simula  1967\n",
      "98                                        XPL  1967\n",
      "99                                      PILOT  1968\n",
      "\n",
      "[100 rows x 2 columns]\n"
     ]
    }
   ],
   "source": [
    "# Exo 1.3\n",
    "\n",
    "from pandas import json_normalize\n",
    "import pandas as pd\n",
    "import json\n",
    "\n",
    "data = json.load(open('../../data/pl.json'))\n",
    "dataframe = json_normalize(data)\n",
    "print(dataframe)"
   ]
  },
  {
   "cell_type": "code",
   "execution_count": 8,
   "id": "c5864d03",
   "metadata": {},
   "outputs": [
    {
     "name": "stdout",
     "output_type": "stream",
     "text": [
      "    year                              languageLabel\n",
      "0   1942                                 Plankalkül\n",
      "1   1943                        ENIAC coding system\n",
      "2   1946                           ENIAC Short Code\n",
      "3   1946  Von Neumann and Goldstine graphing system\n",
      "4   1947                               ARC Assembly\n",
      "..   ...                                        ...\n",
      "95  1967                 Space Programming Language\n",
      "96  1968                                      PILOT\n",
      "97  1968                                       CICS\n",
      "98  1968                                      Refal\n",
      "99  1968                                      FOCAL\n",
      "\n",
      "[100 rows x 2 columns]\n"
     ]
    }
   ],
   "source": [
    "# Exo 1.4\n",
    "\n",
    "import urllib.request\n",
    "import json\n",
    "import pandas as pd\n",
    "\n",
    "url = \"https://query.wikidata.org/sparql?query=SELECT%20%3FlanguageLabel%20(YEAR(%3Finception)%20as%20%3Fyear)%0AWHERE%0A%7B%0A%20%20%23instances%20of%20programming%20language%0A%20%20%3Flanguage%20wdt%3AP31%20wd%3AQ9143%3B%0A%20%20%20%20%20%20%20%20%20%20%20%20wdt%3AP571%20%3Finception%3B%0A%20%20%20%20%20%20%20%20%20%20%20%20rdfs%3Alabel%20%3FlanguageLabel.%0A%20%20FILTER(lang(%3FlanguageLabel)%20%3D%20%22en%22)%0A%7D%0AORDER%20BY%20%3Fyear%0ALIMIT%20100&format=json\"\n",
    "response = urllib.request.urlopen(url)\n",
    "responsedata =  json.loads(response.read().decode('utf-8'))\n",
    "\n",
    "array = []\n",
    "\n",
    "for data in responsedata['results']['bindings']:\n",
    "    array.append([data['year']['value'],\n",
    "     data['languageLabel']['value']])\n",
    "\n",
    "dataframe = pd.DataFrame(array,\n",
    "     columns=['year', 'languageLabel'])\n",
    "dataframe = dataframe.astype(dtype= {\"year\":\"<i4\",\n",
    "     \"languageLabel\":\"<U200\"})\n",
    "print(dataframe)"
   ]
  },
  {
   "cell_type": "code",
   "execution_count": 9,
   "id": "fdc98961",
   "metadata": {},
   "outputs": [
    {
     "name": "stdout",
     "output_type": "stream",
     "text": [
      "      languageLabel\n",
      "year               \n",
      "1942              1\n",
      "1943              1\n",
      "1946              2\n",
      "1947              1\n",
      "1948              2\n",
      "1949              1\n",
      "1950              3\n",
      "1951             11\n",
      "1952              4\n",
      "1953              2\n",
      "1954              4\n",
      "1955              8\n",
      "1956              1\n",
      "1957              6\n",
      "1958              2\n",
      "1959              4\n",
      "1960              6\n",
      "1961              1\n",
      "1962              5\n",
      "1963              3\n",
      "1964             11\n",
      "1965              5\n",
      "1966              6\n",
      "1967              6\n",
      "1968              4\n"
     ]
    }
   ],
   "source": [
    "# Exo 1.5\n",
    "\n",
    "grouped = dataframe.groupby('year').count()\n",
    "print(grouped)"
   ]
  },
  {
   "cell_type": "code",
   "execution_count": 3,
   "id": "9fce3201",
   "metadata": {},
   "outputs": [
    {
     "name": "stdout",
     "output_type": "stream",
     "text": [
      "                                            languageLabel\n",
      "                                                    count\n",
      "year paradigmLabel                                       \n",
      "1948 procedural programming                             1\n",
      "1949 non-structured programming                         1\n",
      "     procedural programming                             1\n",
      "1950 procedural programming                             1\n",
      "1953 procedural programming                             1\n",
      "...                                                   ...\n",
      "1970 imperative programming                             1\n",
      "     procedural programming                             1\n",
      "     structured programming                             1\n",
      "1971 functional programming                             1\n",
      "     knowledge representation and reasoning             1\n",
      "\n",
      "[73 rows x 1 columns]\n"
     ]
    }
   ],
   "source": [
    "from pandas.io.json import json_normalize\n",
    "import pandas as pd\n",
    "import json\n",
    "\n",
    "jsondata = json.load(open('../../data/plparadigm.json'))\n",
    "array = []\n",
    "\n",
    "for data in jsondata:\n",
    "    array.append([data['year'],\n",
    "                  data['languageLabel'], data['paradigmLabel']])\n",
    "\n",
    "dataframe = pd.DataFrame(array,\n",
    "      columns=['year', 'languageLabel', 'paradigmLabel']) \n",
    "dataframe = dataframe.astype(dtype= {\"year\" : \"int64\",\n",
    "      \"languageLabel\" : \"<U200\", \"paradigmLabel\" : \"<U200\"})\n",
    "\n",
    "# Test 1\n",
    "grouped = dataframe.groupby(['year',\n",
    "       'paradigmLabel']).agg(['count'])\n",
    "print(grouped)"
   ]
  },
  {
   "cell_type": "code",
   "execution_count": 11,
   "id": "08b0dbfe",
   "metadata": {},
   "outputs": [
    {
     "name": "stdout",
     "output_type": "stream",
     "text": [
      "                            languageLabel\n",
      "                                    count\n",
      "paradigmLabel          year              \n",
      "array programming      1954             1\n",
      "                       1957             1\n",
      "                       1962             1\n",
      "                       1966             1\n",
      "assembly language      1956             1\n",
      "...                                   ...\n",
      "structured programming 1957             1\n",
      "                       1958             1\n",
      "                       1962             1\n",
      "                       1966             1\n",
      "                       1970             1\n",
      "\n",
      "[73 rows x 1 columns]\n"
     ]
    }
   ],
   "source": [
    "# Test 2\n",
    "\n",
    "grouped = dataframe.groupby(['paradigmLabel',\n",
    "       'year']).agg(['count'])\n",
    "print(grouped)"
   ]
  },
  {
   "cell_type": "code",
   "execution_count": 4,
   "id": "2cd70b05",
   "metadata": {},
   "outputs": [
    {
     "name": "stdout",
     "output_type": "stream",
     "text": [
      "        countryLabel  year population\n",
      "57       Afghanistan  2021   37466414\n",
      "113          Albania  2017    2873457\n",
      "170          Algeria  2020   43900000\n",
      "226   American Samoa  2020      55197\n",
      "285          Andorra  2021      78151\n",
      "...              ...   ...        ...\n",
      "8441         Vietnam  2018   94660000\n",
      "8469           Wales  2016    3113000\n",
      "8476           Yemen  2017   28250420\n",
      "8533          Zambia  2017   17094130\n",
      "8588        Zimbabwe  2017   16529904\n",
      "\n",
      "[187 rows x 3 columns]\n"
     ]
    }
   ],
   "source": [
    "## First request\n",
    "\n",
    "#SELECT ?title ?subjectLabel ?year\n",
    "#{\n",
    "#  ?article wdt:P31 wd:Q13442814; #scientific article\n",
    "#           wdt:P1476 ?title; #title of the article\n",
    "#           wdt:P921 ?subject; #main subject\n",
    "#           wdt:P577 ?date. #publication date\n",
    "#  ?subject rdfs:label ?subjectLabel.\n",
    "#  BIND(YEAR(?date) as ?year).\n",
    "#  #published after 2010\n",
    "#  FILTER(lang(?title)=\"en\" &&\n",
    "#     lang(?subjectLabel)=\"en\" && ?year>2010)\n",
    "#}\n",
    "#LIMIT 10000\n",
    "\n",
    "# Load data from response\n",
    "jsondata = json.load(open('./jsonQueries/firstQuery.json'))\n",
    "\n",
    "array = []\n",
    "\n",
    "for data in jsondata:\n",
    "    array.append([data['countryLabel'], data['year'], data['population']])\n",
    "    \n",
    "# Display the population of countries in alphabetical order of their names and ascending order of year :\n",
    "dataFrameOne = pd.DataFrame(array, columns=['countryLabel', 'year', 'population']) \n",
    "dataFrameOne.sort_values(by=['countryLabel','year'], inplace=True)\n",
    "#print(dataFrameOne)\n",
    "\n",
    "# Display the latest available population of every country :\n",
    "dataFrameTwo = pd.DataFrame(array, columns=['countryLabel', 'year', 'population']) \n",
    "dataFrameTwo.sort_values(by=['countryLabel','year'], inplace=True)\n",
    "latestPerCountry = dataFrameTwo.groupby(['countryLabel']).tail(1)\n",
    "#print(latestPerCountry)\n",
    "\n",
    "# Display the country with the lowest and highest population (considering the latest population) :\n",
    "pd.options.mode.chained_assignment = None  # default='warn' (I removed warnings)\n",
    "\n",
    "dataFrameThree = pd.DataFrame(array, columns=['countryLabel', 'year', 'population']) \n",
    "dataFrameThree.sort_values(by=['countryLabel','year'], inplace=True)\n",
    "latestPerCountry = dataFrameTwo.groupby(['countryLabel']).tail(1)\n",
    "latestPerCountry['population'] = pd.to_numeric(latestPerCountry['population']) \n",
    "#print(latestPerCountry.loc[[latestPerCountry['population'].idxmax()]])\n",
    "#print(latestPerCountry.loc[[latestPerCountry['population'].idxmin()]])\n",
    "\n",
    "# I had to remove warnings since my call to pd.to_numeric apparently fucked something up\n"
   ]
  },
  {
   "cell_type": "code",
   "execution_count": 42,
   "id": "fb66733e",
   "metadata": {},
   "outputs": [
    {
     "name": "stdout",
     "output_type": "stream",
     "text": [
      "    year subjectLabel  count\n",
      "10  2013       Canada    573\n",
      "25  2016       Canada    560\n",
      "20  2015       Canada    522\n",
      "15  2014       Canada    522\n",
      "5   2012       Canada    520\n",
      "1   2011       Canada    490\n",
      "30  2017       Canada    275\n",
      "34  2018       Canada    168\n",
      "39  2019    happiness    135\n",
      "43  2020    happiness     39\n"
     ]
    },
    {
     "name": "stderr",
     "output_type": "stream",
     "text": [
      "/mnt/c/Users/V3D/Desktop/COURS/MachineLearning/env/lib/python3.6/site-packages/ipykernel_launcher.py:35: SettingWithCopyWarning: \n",
      "A value is trying to be set on a copy of a slice from a DataFrame\n",
      "\n",
      "See the caveats in the documentation: https://pandas.pydata.org/pandas-docs/stable/user_guide/indexing.html#returning-a-view-versus-a-copy\n",
      "/mnt/c/Users/V3D/Desktop/COURS/MachineLearning/env/lib/python3.6/site-packages/ipykernel_launcher.py:44: SettingWithCopyWarning: \n",
      "A value is trying to be set on a copy of a slice from a DataFrame\n",
      "\n",
      "See the caveats in the documentation: https://pandas.pydata.org/pandas-docs/stable/user_guide/indexing.html#returning-a-view-versus-a-copy\n"
     ]
    }
   ],
   "source": [
    "## Second request \n",
    "\n",
    "#SELECT ?title ?subjectLabel ?year\n",
    "#{\n",
    "#  ?article wdt:P31 wd:Q13442814; #scientific article\n",
    "#           wdt:P1476 ?title; #title of the article\n",
    "#           wdt:P921 ?subject; #main subject\n",
    "#           wdt:P577 ?date. #publication date\n",
    "#  ?subject rdfs:label ?subjectLabel.\n",
    "#  BIND(YEAR(?date) as ?year).\n",
    "#  #published after 2010\n",
    "#  FILTER(lang(?title)=\"en\" &&\n",
    "#     lang(?subjectLabel)=\"en\" && ?year>2010)\n",
    "#}\n",
    "#LIMIT 10000\n",
    "\n",
    "# Load data from response\n",
    "jsondata = json.load(open('./jsonQueries/secondQuery.json'))\n",
    "\n",
    "array = []\n",
    "\n",
    "for data in jsondata:\n",
    "    array.append([data['title'], data['subjectLabel'], data['year']])\n",
    "\n",
    "# Display the number of articles published on different subjects every year.\n",
    "dataFrameOne = pd.DataFrame(array, columns=['title', 'subjectLabel', 'year']) \n",
    "nbOfArticlePerYearPerSubject = dataFrameOne.groupby(['year', 'subjectLabel'], as_index=False).count().rename(columns={'title':'count'})\n",
    "#print(nbOfArticlePerYearPerSubject)\n",
    "\n",
    "# Display top subject of interest to the scientific community every year(based on the above query results).\n",
    "dataFrameTwo = pd.DataFrame(array, columns=['title', 'subjectLabel', 'year']) \n",
    "nbOfArticlePerYearPerSubject = dataFrameTwo.groupby(['year', 'subjectLabel'], as_index=False).count().rename(columns={'title':'count'})\n",
    "nbOfArticlePerYearPerSubject.sort_values(by=['count'], inplace=True)\n",
    "topSubjectPerYear = nbOfArticlePerYearPerSubject.groupby(['year']).tail(1)\n",
    "topSubjectPerYear.sort_values(by=['year'], inplace=True)\n",
    "#print(topSubjectPerYear)\n",
    "\n",
    "# Display top 10 subjects of interest to the scientific community (based on the above query results) since 2010.\n",
    "dataFrameThree = pd.DataFrame(array, columns=['title', 'subjectLabel', 'year']) \n",
    "dataFrameFiltered = dataFrameThree.loc[dataFrameThree['year'] >= \"2010\"]\n",
    "nbOfArticlePerYearPerSubject = dataFrameFiltered.groupby(['year', 'subjectLabel'], as_index=False).count().rename(columns={'title':'count'})\n",
    "nbOfArticlePerYearPerSubject.sort_values(by=['count'], inplace=True)\n",
    "topSubjectPerYear = nbOfArticlePerYearPerSubject.groupby(['year']).tail(1)\n",
    "topSubjectPerYear.sort_values(by=['count'], inplace=True, ascending=False)\n",
    "print(topSubjectPerYear[:10])\n"
   ]
  },
  {
   "cell_type": "code",
   "execution_count": null,
   "id": "ece721ed",
   "metadata": {},
   "outputs": [],
   "source": []
  }
 ],
 "metadata": {
  "kernelspec": {
   "display_name": "Python 3",
   "language": "python",
   "name": "python3"
  },
  "language_info": {
   "codemirror_mode": {
    "name": "ipython",
    "version": 3
   },
   "file_extension": ".py",
   "mimetype": "text/x-python",
   "name": "python",
   "nbconvert_exporter": "python",
   "pygments_lexer": "ipython3",
   "version": "3.6.9"
  }
 },
 "nbformat": 4,
 "nbformat_minor": 5
}
